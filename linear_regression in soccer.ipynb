{
  "cells": [
    {
      "cell_type": "markdown",
      "metadata": {
        "id": "6-F8J5_mvBYf"
      },
      "source": [
        "# Linear Regression\n",
        "\n",
        "##### Examining the relationship between a player's pass volume and completion percentage\n",
        "\n",
        "---"
      ]
    },
    {
      "cell_type": "code",
      "execution_count": 11,
      "metadata": {
        "id": "xT362insvBYh"
      },
      "outputs": [],
      "source": [
        "import requests\n",
        "import pandas as pd\n",
        "from tqdm import tqdm\n",
        "import matplotlib.pyplot as plt"
      ]
    },
    {
      "cell_type": "markdown",
      "metadata": {
        "id": "2Y4rZ6SpvBYh"
      },
      "source": [
        "Same as in previous Notebook, but we're adding:\n",
        "- `matplotlib.pyplot as plt`. which is the commonly-used convention for importing `matplotlib`\n",
        "\n",
        "---"
      ]
    },
    {
      "cell_type": "code",
      "execution_count": 12,
      "metadata": {
        "id": "M5eo07xOvBYh"
      },
      "outputs": [],
      "source": [
        "base_url = \"https://raw.githubusercontent.com/statsbomb/open-data/master/data/\"\n",
        "comp_url = base_url + \"matches/{}/{}.json\"\n",
        "match_url = base_url + \"events/{}.json\""
      ]
    },
    {
      "cell_type": "code",
      "source": [
        "print(comp_url)"
      ],
      "metadata": {
        "id": "1UCHTiV3ysc3",
        "outputId": "0849f85f-0c34-4974-9713-e3cf4c56ef5a",
        "colab": {
          "base_uri": "https://localhost:8080/"
        }
      },
      "execution_count": 13,
      "outputs": [
        {
          "output_type": "stream",
          "name": "stdout",
          "text": [
            "https://raw.githubusercontent.com/statsbomb/open-data/master/data/matches/{}/{}.json\n"
          ]
        }
      ]
    },
    {
      "cell_type": "code",
      "execution_count": 14,
      "metadata": {
        "id": "D2-e64F4vBYi"
      },
      "outputs": [],
      "source": [
        "def parse_data(competition_id, season_id):\n",
        "    matches = requests.get(url=comp_url.format(competition_id, season_id)).json()\n",
        "    match_ids = [m['match_id'] for m in matches]\n",
        "\n",
        "    all_events = []\n",
        "    for match_id in tqdm(match_ids):\n",
        "\n",
        "        events = requests.get(url=match_url.format(match_id)).json()\n",
        "        passes = [x for x in events if x['type']['name'] == \"Pass\"]\n",
        "        \n",
        "        for a in passes:\n",
        "            attributes = {\n",
        "                \"player_id\": a['player']['id'],\n",
        "                \"outcome\": 0 if 'outcome' in a['pass'].keys() else 1,\n",
        "            }\n",
        "            all_events.append(attributes)\n",
        "            \n",
        "    return pd.DataFrame(all_events)\n"
      ]
    },
    {
      "cell_type": "markdown",
      "metadata": {
        "id": "EuOj_zuDvBYi"
      },
      "source": [
        "The `parse_data` function has been adjusted such that `player_id` and `outcome` are the only attributes being collected.\n",
        "\n",
        "The StatsBomb data has this weird quirk of only presenting an `outcome` key on event objects that are incomplete. This bit of code handles that:\n",
        "`\"outcome\": 0 if 'outcome' in a['pass'].keys() else 1`\n",
        "\n",
        "---"
      ]
    },
    {
      "cell_type": "code",
      "execution_count": 16,
      "metadata": {
        "id": "nij1eW7FvBYi",
        "outputId": "ab91ba83-fa60-45fe-e814-a003e63c3f4a",
        "colab": {
          "base_uri": "https://localhost:8080/"
        }
      },
      "outputs": [
        {
          "output_type": "stream",
          "name": "stderr",
          "text": [
            "100%|██████████| 64/64 [00:29<00:00,  2.15it/s]\n"
          ]
        }
      ],
      "source": [
        "competition_id = 43\n",
        "season_id = 3\n",
        "df = parse_data(competition_id, season_id)"
      ]
    },
    {
      "cell_type": "code",
      "execution_count": 17,
      "metadata": {
        "id": "ptP-GkJkvBYj",
        "outputId": "8f417ac9-b824-4796-dec0-5f197a30dc2b",
        "colab": {
          "base_uri": "https://localhost:8080/",
          "height": 520
        }
      },
      "outputs": [
        {
          "output_type": "execute_result",
          "data": {
            "text/plain": [
              "    player_id  outcome\n",
              "0        5586        1\n",
              "1        5597        0\n",
              "2        5539        0\n",
              "3        5542        1\n",
              "4        3472        0\n",
              "5        5598        0\n",
              "6        5552        0\n",
              "7        5599        1\n",
              "8        5597        1\n",
              "9        5836        0\n",
              "10       5836        1\n",
              "11       5592        0\n",
              "12       3295        1\n",
              "13       5838        1\n",
              "14       5542        1"
            ],
            "text/html": [
              "\n",
              "  <div id=\"df-f651aa0c-4e24-409a-a4b1-93e8b69d14b3\">\n",
              "    <div class=\"colab-df-container\">\n",
              "      <div>\n",
              "<style scoped>\n",
              "    .dataframe tbody tr th:only-of-type {\n",
              "        vertical-align: middle;\n",
              "    }\n",
              "\n",
              "    .dataframe tbody tr th {\n",
              "        vertical-align: top;\n",
              "    }\n",
              "\n",
              "    .dataframe thead th {\n",
              "        text-align: right;\n",
              "    }\n",
              "</style>\n",
              "<table border=\"1\" class=\"dataframe\">\n",
              "  <thead>\n",
              "    <tr style=\"text-align: right;\">\n",
              "      <th></th>\n",
              "      <th>player_id</th>\n",
              "      <th>outcome</th>\n",
              "    </tr>\n",
              "  </thead>\n",
              "  <tbody>\n",
              "    <tr>\n",
              "      <th>0</th>\n",
              "      <td>5586</td>\n",
              "      <td>1</td>\n",
              "    </tr>\n",
              "    <tr>\n",
              "      <th>1</th>\n",
              "      <td>5597</td>\n",
              "      <td>0</td>\n",
              "    </tr>\n",
              "    <tr>\n",
              "      <th>2</th>\n",
              "      <td>5539</td>\n",
              "      <td>0</td>\n",
              "    </tr>\n",
              "    <tr>\n",
              "      <th>3</th>\n",
              "      <td>5542</td>\n",
              "      <td>1</td>\n",
              "    </tr>\n",
              "    <tr>\n",
              "      <th>4</th>\n",
              "      <td>3472</td>\n",
              "      <td>0</td>\n",
              "    </tr>\n",
              "    <tr>\n",
              "      <th>5</th>\n",
              "      <td>5598</td>\n",
              "      <td>0</td>\n",
              "    </tr>\n",
              "    <tr>\n",
              "      <th>6</th>\n",
              "      <td>5552</td>\n",
              "      <td>0</td>\n",
              "    </tr>\n",
              "    <tr>\n",
              "      <th>7</th>\n",
              "      <td>5599</td>\n",
              "      <td>1</td>\n",
              "    </tr>\n",
              "    <tr>\n",
              "      <th>8</th>\n",
              "      <td>5597</td>\n",
              "      <td>1</td>\n",
              "    </tr>\n",
              "    <tr>\n",
              "      <th>9</th>\n",
              "      <td>5836</td>\n",
              "      <td>0</td>\n",
              "    </tr>\n",
              "    <tr>\n",
              "      <th>10</th>\n",
              "      <td>5836</td>\n",
              "      <td>1</td>\n",
              "    </tr>\n",
              "    <tr>\n",
              "      <th>11</th>\n",
              "      <td>5592</td>\n",
              "      <td>0</td>\n",
              "    </tr>\n",
              "    <tr>\n",
              "      <th>12</th>\n",
              "      <td>3295</td>\n",
              "      <td>1</td>\n",
              "    </tr>\n",
              "    <tr>\n",
              "      <th>13</th>\n",
              "      <td>5838</td>\n",
              "      <td>1</td>\n",
              "    </tr>\n",
              "    <tr>\n",
              "      <th>14</th>\n",
              "      <td>5542</td>\n",
              "      <td>1</td>\n",
              "    </tr>\n",
              "  </tbody>\n",
              "</table>\n",
              "</div>\n",
              "      <button class=\"colab-df-convert\" onclick=\"convertToInteractive('df-f651aa0c-4e24-409a-a4b1-93e8b69d14b3')\"\n",
              "              title=\"Convert this dataframe to an interactive table.\"\n",
              "              style=\"display:none;\">\n",
              "        \n",
              "  <svg xmlns=\"http://www.w3.org/2000/svg\" height=\"24px\"viewBox=\"0 0 24 24\"\n",
              "       width=\"24px\">\n",
              "    <path d=\"M0 0h24v24H0V0z\" fill=\"none\"/>\n",
              "    <path d=\"M18.56 5.44l.94 2.06.94-2.06 2.06-.94-2.06-.94-.94-2.06-.94 2.06-2.06.94zm-11 1L8.5 8.5l.94-2.06 2.06-.94-2.06-.94L8.5 2.5l-.94 2.06-2.06.94zm10 10l.94 2.06.94-2.06 2.06-.94-2.06-.94-.94-2.06-.94 2.06-2.06.94z\"/><path d=\"M17.41 7.96l-1.37-1.37c-.4-.4-.92-.59-1.43-.59-.52 0-1.04.2-1.43.59L10.3 9.45l-7.72 7.72c-.78.78-.78 2.05 0 2.83L4 21.41c.39.39.9.59 1.41.59.51 0 1.02-.2 1.41-.59l7.78-7.78 2.81-2.81c.8-.78.8-2.07 0-2.86zM5.41 20L4 18.59l7.72-7.72 1.47 1.35L5.41 20z\"/>\n",
              "  </svg>\n",
              "      </button>\n",
              "      \n",
              "  <style>\n",
              "    .colab-df-container {\n",
              "      display:flex;\n",
              "      flex-wrap:wrap;\n",
              "      gap: 12px;\n",
              "    }\n",
              "\n",
              "    .colab-df-convert {\n",
              "      background-color: #E8F0FE;\n",
              "      border: none;\n",
              "      border-radius: 50%;\n",
              "      cursor: pointer;\n",
              "      display: none;\n",
              "      fill: #1967D2;\n",
              "      height: 32px;\n",
              "      padding: 0 0 0 0;\n",
              "      width: 32px;\n",
              "    }\n",
              "\n",
              "    .colab-df-convert:hover {\n",
              "      background-color: #E2EBFA;\n",
              "      box-shadow: 0px 1px 2px rgba(60, 64, 67, 0.3), 0px 1px 3px 1px rgba(60, 64, 67, 0.15);\n",
              "      fill: #174EA6;\n",
              "    }\n",
              "\n",
              "    [theme=dark] .colab-df-convert {\n",
              "      background-color: #3B4455;\n",
              "      fill: #D2E3FC;\n",
              "    }\n",
              "\n",
              "    [theme=dark] .colab-df-convert:hover {\n",
              "      background-color: #434B5C;\n",
              "      box-shadow: 0px 1px 3px 1px rgba(0, 0, 0, 0.15);\n",
              "      filter: drop-shadow(0px 1px 2px rgba(0, 0, 0, 0.3));\n",
              "      fill: #FFFFFF;\n",
              "    }\n",
              "  </style>\n",
              "\n",
              "      <script>\n",
              "        const buttonEl =\n",
              "          document.querySelector('#df-f651aa0c-4e24-409a-a4b1-93e8b69d14b3 button.colab-df-convert');\n",
              "        buttonEl.style.display =\n",
              "          google.colab.kernel.accessAllowed ? 'block' : 'none';\n",
              "\n",
              "        async function convertToInteractive(key) {\n",
              "          const element = document.querySelector('#df-f651aa0c-4e24-409a-a4b1-93e8b69d14b3');\n",
              "          const dataTable =\n",
              "            await google.colab.kernel.invokeFunction('convertToInteractive',\n",
              "                                                     [key], {});\n",
              "          if (!dataTable) return;\n",
              "\n",
              "          const docLinkHtml = 'Like what you see? Visit the ' +\n",
              "            '<a target=\"_blank\" href=https://colab.research.google.com/notebooks/data_table.ipynb>data table notebook</a>'\n",
              "            + ' to learn more about interactive tables.';\n",
              "          element.innerHTML = '';\n",
              "          dataTable['output_type'] = 'display_data';\n",
              "          await google.colab.output.renderOutput(dataTable, element);\n",
              "          const docLink = document.createElement('div');\n",
              "          docLink.innerHTML = docLinkHtml;\n",
              "          element.appendChild(docLink);\n",
              "        }\n",
              "      </script>\n",
              "    </div>\n",
              "  </div>\n",
              "  "
            ]
          },
          "metadata": {},
          "execution_count": 17
        }
      ],
      "source": [
        "df.head(15)"
      ]
    },
    {
      "cell_type": "code",
      "source": [
        "len(df)"
      ],
      "metadata": {
        "id": "E9-cnCJt3ty4",
        "outputId": "2cffdfa1-6127-43f2-d627-4f650b88a863",
        "colab": {
          "base_uri": "https://localhost:8080/"
        }
      },
      "execution_count": 20,
      "outputs": [
        {
          "output_type": "execute_result",
          "data": {
            "text/plain": [
              "62881"
            ]
          },
          "metadata": {},
          "execution_count": 20
        }
      ]
    },
    {
      "cell_type": "code",
      "execution_count": 21,
      "metadata": {
        "id": "PqnM6XpLvBYj"
      },
      "outputs": [],
      "source": [
        "total_passes = df.groupby('player_id')['outcome'].sum()\n",
        "percentage = df.groupby('player_id')['outcome'].mean()"
      ]
    },
    {
      "cell_type": "markdown",
      "metadata": {
        "id": "L8DlGs2XvBYj"
      },
      "source": [
        "In `Pandas` DataFrames, you can do some basic grouping and aggregation.\n",
        "\n",
        "Here, we're grouping on `player_id`, and applying a `sum()` or a `mean()` to the `outcome` attribute.\n",
        "\n",
        "---"
      ]
    },
    {
      "cell_type": "code",
      "execution_count": 22,
      "metadata": {
        "id": "dyexnCAxvBYk",
        "outputId": "665eb09d-2243-43d2-aca9-a12318dd708b",
        "colab": {
          "base_uri": "https://localhost:8080/",
          "height": 265
        }
      },
      "outputs": [
        {
          "output_type": "display_data",
          "data": {
            "text/plain": [
              "<Figure size 432x288 with 1 Axes>"
            ],
            "image/png": "[encoded data removed]"
          },
          "metadata": {
            "needs_background": "light"
          }
        }
      ],
      "source": [
        "plt.scatter(total_passes, percentage, alpha=0.8)\n",
        "plt.show()"
      ]
    },
    {
      "cell_type": "markdown",
      "metadata": {
        "id": "57Ev_kHJvBYk"
      },
      "source": [
        "This is a basic scatter plot via `Matplotlib`, with the x and y axes set to `total_passes` and `percentage`\n",
        "\n",
        "`alpha=0.8` sets the opacity of each scatter point.\n",
        "\n",
        "---"
      ]
    },
    {
      "cell_type": "code",
      "execution_count": 23,
      "metadata": {
        "id": "-RKkHfucvBYk"
      },
      "outputs": [],
      "source": [
        "from sklearn.linear_model import LinearRegression"
      ]
    },
    {
      "cell_type": "markdown",
      "metadata": {
        "id": "dU2kKelgvBYk"
      },
      "source": [
        "This imports LinearRegression from `scikit-learn`'s `linear_model` module.\n",
        "\n",
        "---"
      ]
    },
    {
      "cell_type": "code",
      "execution_count": null,
      "metadata": {
        "id": "cI0ABJynvBYk",
        "outputId": "ed0dec0c-ad1b-44ca-c6ac-f9666fff52d3"
      },
      "outputs": [
        {
          "name": "stdout",
          "output_type": "stream",
          "text": [
            "Coefficients: [0.00063316]\n",
            "Intercept: 0.709239569309592\n"
          ]
        }
      ],
      "source": [
        "model = LinearRegression()\n",
        "fit = model.fit([[x] for x in total_passes], percentage)\n",
        "print(\"Coefficients: {}\".format(fit.coef_))\n",
        "print(\"Intercept: {}\".format(fit.intercept_))"
      ]
    },
    {
      "cell_type": "markdown",
      "metadata": {
        "id": "g0moucjGvBYk"
      },
      "source": [
        "This builds a LinearRegression model, and attempts to predict `percentage` with the features in the `total_passes` variable.\n",
        "\n",
        "The list comprehension (`[[x] for x in total_passes]`) that surrounds `total_passes` is worth an explanation. Since `model.fit()` allows for multiple features, it requires a nested list as the first argument.\n",
        "\n",
        "---"
      ]
    },
    {
      "cell_type": "code",
      "execution_count": 33,
      "metadata": {
        "id": "LrRKTDlhvBYk",
        "outputId": "82b6351d-c74f-4d75-d0bd-1185d4c90a41",
        "colab": {
          "base_uri": "https://localhost:8080/"
        }
      },
      "outputs": [
        {
          "output_type": "stream",
          "name": "stdout",
          "text": [
            "[0.70944324 1.02540129]\n"
          ]
        }
      ],
      "source": [
        "xfit = [0, 500] # This is the x-axis range of the chart\n",
        "yfit = model.predict([[x] for x in xfit])\n",
        "print(yfit)"
      ]
    },
    {
      "cell_type": "markdown",
      "metadata": {
        "id": "05q1E7iivBYl"
      },
      "source": [
        "This builds the regression line such that it can be plotted in the next step.\n",
        "\n",
        "---\n"
      ]
    },
    {
      "cell_type": "code",
      "execution_count": null,
      "metadata": {
        "id": "BkOOSeZPvBYl",
        "outputId": "2624b725-d722-4bb8-e408-926883490326"
      },
      "outputs": [
        {
          "data": {
            "image/png": "[encoded data removed]",
            "text/plain": [
              "<Figure size 432x288 with 1 Axes>"
            ]
          },
          "metadata": {
            "needs_background": "light"
          },
          "output_type": "display_data"
        }
      ],
      "source": [
        "plt.scatter(total_passes, percentage, alpha=0.3)\n",
        "plt.plot(xfit, yfit, 'r')\n",
        "plt.show()"
      ]
    },
    {
      "cell_type": "markdown",
      "metadata": {
        "id": "dqOn1BYpvBYl"
      },
      "source": [
        "This plots the previous chart, but also overlays the calculated regression line in red. The color is adjusted with the `'r'` in the `plt.plot()` function.\n",
        "\n",
        "---\n",
        "\n",
        "Devin Pleuler 2020"
      ]
    },
    {
      "cell_type": "code",
      "execution_count": null,
      "metadata": {
        "id": "gTQmHGJvvBYl"
      },
      "outputs": [],
      "source": []
    }
  ],
  "metadata": {
    "kernelspec": {
      "display_name": "Python 3",
      "language": "python",
      "name": "python3"
    },
    "language_info": {
      "codemirror_mode": {
        "name": "ipython",
        "version": 3
      },
      "file_extension": ".py",
      "mimetype": "text/x-python",
      "name": "python",
      "nbconvert_exporter": "python",
      "pygments_lexer": "ipython3",
      "version": "3.7.6"
    },
    "colab": {
      "provenance": []
    }
  },
  "nbformat": 4,
  "nbformat_minor": 0
}