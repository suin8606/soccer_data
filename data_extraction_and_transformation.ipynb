{
  "cells": [
    {
      "cell_type": "markdown",
      "metadata": {
        "id": "Cz9-KIltYWoN"
      },
      "source": [
        "# Data Extraction & Transformation\n",
        "\n",
        "##### Parsing raw StatsBomb data and storing it in a Pandas DataFrame\n",
        "\n",
        "---"
      ]
    },
    {
      "cell_type": "code",
      "source": [
        "import requests\n",
        "import pandas as pd\n",
        "from tqdm import tqdm"
      ],
      "metadata": {
        "id": "PV13m01gjx-b"
      },
      "execution_count": 25,
      "outputs": []
    },
    {
      "cell_type": "markdown",
      "metadata": {
        "id": "wsQrDmfpYWoQ"
      },
      "source": [
        "- `requests` is a great library for executing HTTP requests\n",
        "- `pandas` is a data analysis and manipulation package\n",
        "- `tqdm` is a clean progress bar library\n",
        "\n",
        "---"
      ]
    },
    {
      "cell_type": "code",
      "execution_count": 26,
      "metadata": {
        "id": "qa1Dx6EjYWoQ"
      },
      "outputs": [],
      "source": [
        "base_url = \"https://raw.githubusercontent.com/statsbomb/open-data/master/data/\"\n",
        "comp_url = base_url + \"matches/{}/{}.json\"\n",
        "match_url = base_url + \"events/{}.json\""
      ]
    },
    {
      "cell_type": "markdown",
      "metadata": {
        "id": "F6J08u-OYWoQ"
      },
      "source": [
        "These URLs are the locations where the raw StatsBomb data lives. Notice the `{}` in there, which are dynamically replaced with IDs with `.format()`\n",
        "\n",
        "___"
      ]
    },
    {
      "cell_type": "code",
      "execution_count": 27,
      "metadata": {
        "id": "ItiCOeDzYWoR"
      },
      "outputs": [],
      "source": [
        "def parse_data(competition_id=16, season_id=4):\n",
        "    matches=requests.get(url=comp_url.format(competition_id,season_id)).json()\n",
        "    match_ids=[x[\"match_id\"] for x in matches]\n",
        "    all_events=[]\n",
        "    for match_id in tqdm(match_ids):\n",
        "        events=requests.get(url=match_url.format(match_id)).json()\n",
        "        shots=[x for x in events if x[\"type\"][\"name\"]=='Shot']\n",
        "        for y in shots:\n",
        "            attributes={\n",
        "                \"match_id\":match_id,\n",
        "                \"team\":y[\"possession_team\"][\"name\"],\n",
        "                \"player\":y['player'][\"name\"],\n",
        "                \"x\":y[\"location\"][0],\n",
        "                \"y\":y[\"location\"][1],\n",
        "                \"outcome\":y[\"shot\"][\"outcome\"][\"name\"]\n",
        "            }\n",
        "            all_events.append(attributes)\n",
        "        return pd.DataFrame(all_events)\n"
      ]
    },
    {
      "cell_type": "code",
      "source": [
        "df=parse_data()"
      ],
      "metadata": {
        "id": "Rg0HbtckmoUr",
        "outputId": "284fde48-60b3-46e5-8f7c-eefe46372891",
        "colab": {
          "base_uri": "https://localhost:8080/"
        }
      },
      "execution_count": 28,
      "outputs": [
        {
          "output_type": "stream",
          "name": "stderr",
          "text": [
            "  0%|          | 0/1 [00:00<?, ?it/s]\n"
          ]
        }
      ]
    },
    {
      "cell_type": "code",
      "source": [
        "df.head(10)"
      ],
      "metadata": {
        "id": "u_W48wdcmv7H",
        "outputId": "cded8242-f98d-4fc9-e816-6d70003c07db",
        "colab": {
          "base_uri": "https://localhost:8080/",
          "height": 363
        }
      },
      "execution_count": 29,
      "outputs": [
        {
          "output_type": "execute_result",
          "data": {
            "text/plain": [
              "   match_id               team                       player      x     y  \\\n",
              "0     22912          Liverpool                Mohamed Salah  108.2  40.1   \n",
              "1     22912  Tottenham Hotspur               Moussa Sissoko   91.9  43.1   \n",
              "2     22912          Liverpool       Trent Alexander-Arnold   90.2  59.3   \n",
              "3     22912          Liverpool                Mohamed Salah   95.2  47.2   \n",
              "4     22912          Liverpool                Mohamed Salah  113.0  59.5   \n",
              "5     22912          Liverpool             Andrew Robertson   98.4  20.4   \n",
              "6     22912          Liverpool                Mohamed Salah   97.6  37.4   \n",
              "7     22912          Liverpool       Jordan Brian Henderson   89.0  47.9   \n",
              "8     22912          Liverpool                Mohamed Salah   94.0  31.3   \n",
              "9     22912  Tottenham Hotspur  Christian Dannemann Eriksen   96.1  41.6   \n",
              "\n",
              "   outcome  \n",
              "0     Goal  \n",
              "1    Off T  \n",
              "2    Off T  \n",
              "3  Blocked  \n",
              "4  Wayward  \n",
              "5    Saved  \n",
              "6    Off T  \n",
              "7  Blocked  \n",
              "8  Blocked  \n",
              "9    Off T  "
            ],
            "text/html": [
              "\n",
              "  <div id=\"df-9cfa2d68-f251-4049-af68-dfba3a829bbb\">\n",
              "    <div class=\"colab-df-container\">\n",
              "      <div>\n",
              "<style scoped>\n",
              "    .dataframe tbody tr th:only-of-type {\n",
              "        vertical-align: middle;\n",
              "    }\n",
              "\n",
              "    .dataframe tbody tr th {\n",
              "        vertical-align: top;\n",
              "    }\n",
              "\n",
              "    .dataframe thead th {\n",
              "        text-align: right;\n",
              "    }\n",
              "</style>\n",
              "<table border=\"1\" class=\"dataframe\">\n",
              "  <thead>\n",
              "    <tr style=\"text-align: right;\">\n",
              "      <th></th>\n",
              "      <th>match_id</th>\n",
              "      <th>team</th>\n",
              "      <th>player</th>\n",
              "      <th>x</th>\n",
              "      <th>y</th>\n",
              "      <th>outcome</th>\n",
              "    </tr>\n",
              "  </thead>\n",
              "  <tbody>\n",
              "    <tr>\n",
              "      <th>0</th>\n",
              "      <td>22912</td>\n",
              "      <td>Liverpool</td>\n",
              "      <td>Mohamed Salah</td>\n",
              "      <td>108.2</td>\n",
              "      <td>40.1</td>\n",
              "      <td>Goal</td>\n",
              "    </tr>\n",
              "    <tr>\n",
              "      <th>1</th>\n",
              "      <td>22912</td>\n",
              "      <td>Tottenham Hotspur</td>\n",
              "      <td>Moussa Sissoko</td>\n",
              "      <td>91.9</td>\n",
              "      <td>43.1</td>\n",
              "      <td>Off T</td>\n",
              "    </tr>\n",
              "    <tr>\n",
              "      <th>2</th>\n",
              "      <td>22912</td>\n",
              "      <td>Liverpool</td>\n",
              "      <td>Trent Alexander-Arnold</td>\n",
              "      <td>90.2</td>\n",
              "      <td>59.3</td>\n",
              "      <td>Off T</td>\n",
              "    </tr>\n",
              "    <tr>\n",
              "      <th>3</th>\n",
              "      <td>22912</td>\n",
              "      <td>Liverpool</td>\n",
              "      <td>Mohamed Salah</td>\n",
              "      <td>95.2</td>\n",
              "      <td>47.2</td>\n",
              "      <td>Blocked</td>\n",
              "    </tr>\n",
              "    <tr>\n",
              "      <th>4</th>\n",
              "      <td>22912</td>\n",
              "      <td>Liverpool</td>\n",
              "      <td>Mohamed Salah</td>\n",
              "      <td>113.0</td>\n",
              "      <td>59.5</td>\n",
              "      <td>Wayward</td>\n",
              "    </tr>\n",
              "    <tr>\n",
              "      <th>5</th>\n",
              "      <td>22912</td>\n",
              "      <td>Liverpool</td>\n",
              "      <td>Andrew Robertson</td>\n",
              "      <td>98.4</td>\n",
              "      <td>20.4</td>\n",
              "      <td>Saved</td>\n",
              "    </tr>\n",
              "    <tr>\n",
              "      <th>6</th>\n",
              "      <td>22912</td>\n",
              "      <td>Liverpool</td>\n",
              "      <td>Mohamed Salah</td>\n",
              "      <td>97.6</td>\n",
              "      <td>37.4</td>\n",
              "      <td>Off T</td>\n",
              "    </tr>\n",
              "    <tr>\n",
              "      <th>7</th>\n",
              "      <td>22912</td>\n",
              "      <td>Liverpool</td>\n",
              "      <td>Jordan Brian Henderson</td>\n",
              "      <td>89.0</td>\n",
              "      <td>47.9</td>\n",
              "      <td>Blocked</td>\n",
              "    </tr>\n",
              "    <tr>\n",
              "      <th>8</th>\n",
              "      <td>22912</td>\n",
              "      <td>Liverpool</td>\n",
              "      <td>Mohamed Salah</td>\n",
              "      <td>94.0</td>\n",
              "      <td>31.3</td>\n",
              "      <td>Blocked</td>\n",
              "    </tr>\n",
              "    <tr>\n",
              "      <th>9</th>\n",
              "      <td>22912</td>\n",
              "      <td>Tottenham Hotspur</td>\n",
              "      <td>Christian Dannemann Eriksen</td>\n",
              "      <td>96.1</td>\n",
              "      <td>41.6</td>\n",
              "      <td>Off T</td>\n",
              "    </tr>\n",
              "  </tbody>\n",
              "</table>\n",
              "</div>\n",
              "      <button class=\"colab-df-convert\" onclick=\"convertToInteractive('df-9cfa2d68-f251-4049-af68-dfba3a829bbb')\"\n",
              "              title=\"Convert this dataframe to an interactive table.\"\n",
              "              style=\"display:none;\">\n",
              "        \n",
              "  <svg xmlns=\"http://www.w3.org/2000/svg\" height=\"24px\"viewBox=\"0 0 24 24\"\n",
              "       width=\"24px\">\n",
              "    <path d=\"M0 0h24v24H0V0z\" fill=\"none\"/>\n",
              "    <path d=\"M18.56 5.44l.94 2.06.94-2.06 2.06-.94-2.06-.94-.94-2.06-.94 2.06-2.06.94zm-11 1L8.5 8.5l.94-2.06 2.06-.94-2.06-.94L8.5 2.5l-.94 2.06-2.06.94zm10 10l.94 2.06.94-2.06 2.06-.94-2.06-.94-.94-2.06-.94 2.06-2.06.94z\"/><path d=\"M17.41 7.96l-1.37-1.37c-.4-.4-.92-.59-1.43-.59-.52 0-1.04.2-1.43.59L10.3 9.45l-7.72 7.72c-.78.78-.78 2.05 0 2.83L4 21.41c.39.39.9.59 1.41.59.51 0 1.02-.2 1.41-.59l7.78-7.78 2.81-2.81c.8-.78.8-2.07 0-2.86zM5.41 20L4 18.59l7.72-7.72 1.47 1.35L5.41 20z\"/>\n",
              "  </svg>\n",
              "      </button>\n",
              "      \n",
              "  <style>\n",
              "    .colab-df-container {\n",
              "      display:flex;\n",
              "      flex-wrap:wrap;\n",
              "      gap: 12px;\n",
              "    }\n",
              "\n",
              "    .colab-df-convert {\n",
              "      background-color: #E8F0FE;\n",
              "      border: none;\n",
              "      border-radius: 50%;\n",
              "      cursor: pointer;\n",
              "      display: none;\n",
              "      fill: #1967D2;\n",
              "      height: 32px;\n",
              "      padding: 0 0 0 0;\n",
              "      width: 32px;\n",
              "    }\n",
              "\n",
              "    .colab-df-convert:hover {\n",
              "      background-color: #E2EBFA;\n",
              "      box-shadow: 0px 1px 2px rgba(60, 64, 67, 0.3), 0px 1px 3px 1px rgba(60, 64, 67, 0.15);\n",
              "      fill: #174EA6;\n",
              "    }\n",
              "\n",
              "    [theme=dark] .colab-df-convert {\n",
              "      background-color: #3B4455;\n",
              "      fill: #D2E3FC;\n",
              "    }\n",
              "\n",
              "    [theme=dark] .colab-df-convert:hover {\n",
              "      background-color: #434B5C;\n",
              "      box-shadow: 0px 1px 3px 1px rgba(0, 0, 0, 0.15);\n",
              "      filter: drop-shadow(0px 1px 2px rgba(0, 0, 0, 0.3));\n",
              "      fill: #FFFFFF;\n",
              "    }\n",
              "  </style>\n",
              "\n",
              "      <script>\n",
              "        const buttonEl =\n",
              "          document.querySelector('#df-9cfa2d68-f251-4049-af68-dfba3a829bbb button.colab-df-convert');\n",
              "        buttonEl.style.display =\n",
              "          google.colab.kernel.accessAllowed ? 'block' : 'none';\n",
              "\n",
              "        async function convertToInteractive(key) {\n",
              "          const element = document.querySelector('#df-9cfa2d68-f251-4049-af68-dfba3a829bbb');\n",
              "          const dataTable =\n",
              "            await google.colab.kernel.invokeFunction('convertToInteractive',\n",
              "                                                     [key], {});\n",
              "          if (!dataTable) return;\n",
              "\n",
              "          const docLinkHtml = 'Like what you see? Visit the ' +\n",
              "            '<a target=\"_blank\" href=https://colab.research.google.com/notebooks/data_table.ipynb>data table notebook</a>'\n",
              "            + ' to learn more about interactive tables.';\n",
              "          element.innerHTML = '';\n",
              "          dataTable['output_type'] = 'display_data';\n",
              "          await google.colab.output.renderOutput(dataTable, element);\n",
              "          const docLink = document.createElement('div');\n",
              "          docLink.innerHTML = docLinkHtml;\n",
              "          element.appendChild(docLink);\n",
              "        }\n",
              "      </script>\n",
              "    </div>\n",
              "  </div>\n",
              "  "
            ]
          },
          "metadata": {},
          "execution_count": 29
        }
      ]
    },
    {
      "cell_type": "markdown",
      "metadata": {
        "id": "GF0TVVLhYWoT"
      },
      "source": [
        "---\n",
        "\n",
        "Devin Pleuler 2020"
      ]
    }
  ],
  "metadata": {
    "kernelspec": {
      "display_name": "Python 3",
      "language": "python",
      "name": "python3"
    },
    "language_info": {
      "codemirror_mode": {
        "name": "ipython",
        "version": 3
      },
      "file_extension": ".py",
      "mimetype": "text/x-python",
      "name": "python",
      "nbconvert_exporter": "python",
      "pygments_lexer": "ipython3",
      "version": "3.7.6"
    },
    "colab": {
      "provenance": []
    }
  },
  "nbformat": 4,
  "nbformat_minor": 0
}